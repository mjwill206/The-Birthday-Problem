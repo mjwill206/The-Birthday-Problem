{
 "cells": [
  {
   "cell_type": "markdown",
   "metadata": {},
   "source": [
    "# The Birthday Problem"
   ]
  },
  {
   "cell_type": "markdown",
   "metadata": {},
   "source": [
    "### Imports:"
   ]
  },
  {
   "cell_type": "code",
   "execution_count": 36,
   "metadata": {},
   "outputs": [],
   "source": [
    "import pandas as pd\n",
    "import math\n",
    "import matplotlib.pyplot as plt\n",
    "plt.style.use(\"ggplot\")"
   ]
  },
  {
   "cell_type": "markdown",
   "metadata": {},
   "source": [
    "### Functions:"
   ]
  },
  {
   "cell_type": "code",
   "execution_count": 37,
   "metadata": {},
   "outputs": [],
   "source": [
    "def nPk(n, k):\n",
    "    '''\n",
    "    Return number of permutations of n objects into k groups\n",
    "    '''\n",
    "    return math.factorial(n) / math.factorial(n - k)"
   ]
  },
  {
   "cell_type": "code",
   "execution_count": 38,
   "metadata": {},
   "outputs": [],
   "source": [
    "def proba_same_birthday(k):\n",
    "    '''\n",
    "    Return the probability that 2 people in a group of size k \n",
    "    share a birthday. \n",
    "    '''\n",
    "    return 1 - (nPk(365,k) / (365 ** k))"
   ]
  },
  {
   "cell_type": "markdown",
   "metadata": {},
   "source": [
    "### Data:"
   ]
  },
  {
   "cell_type": "code",
   "execution_count": 39,
   "metadata": {},
   "outputs": [
    {
     "data": {
      "text/html": [
       "<div>\n",
       "<style scoped>\n",
       "    .dataframe tbody tr th:only-of-type {\n",
       "        vertical-align: middle;\n",
       "    }\n",
       "\n",
       "    .dataframe tbody tr th {\n",
       "        vertical-align: top;\n",
       "    }\n",
       "\n",
       "    .dataframe thead th {\n",
       "        text-align: right;\n",
       "    }\n",
       "</style>\n",
       "<table border=\"1\" class=\"dataframe\">\n",
       "  <thead>\n",
       "    <tr style=\"text-align: right;\">\n",
       "      <th></th>\n",
       "      <th>group_size</th>\n",
       "      <th>probability_same_birthday</th>\n",
       "    </tr>\n",
       "  </thead>\n",
       "  <tbody>\n",
       "    <tr>\n",
       "      <th>0</th>\n",
       "      <td>2</td>\n",
       "      <td>0.002740</td>\n",
       "    </tr>\n",
       "    <tr>\n",
       "      <th>1</th>\n",
       "      <td>3</td>\n",
       "      <td>0.008204</td>\n",
       "    </tr>\n",
       "    <tr>\n",
       "      <th>2</th>\n",
       "      <td>4</td>\n",
       "      <td>0.016356</td>\n",
       "    </tr>\n",
       "    <tr>\n",
       "      <th>3</th>\n",
       "      <td>5</td>\n",
       "      <td>0.027136</td>\n",
       "    </tr>\n",
       "    <tr>\n",
       "      <th>4</th>\n",
       "      <td>6</td>\n",
       "      <td>0.040462</td>\n",
       "    </tr>\n",
       "    <tr>\n",
       "      <th>...</th>\n",
       "      <td>...</td>\n",
       "      <td>...</td>\n",
       "    </tr>\n",
       "    <tr>\n",
       "      <th>94</th>\n",
       "      <td>96</td>\n",
       "      <td>0.999999</td>\n",
       "    </tr>\n",
       "    <tr>\n",
       "      <th>95</th>\n",
       "      <td>97</td>\n",
       "      <td>0.999999</td>\n",
       "    </tr>\n",
       "    <tr>\n",
       "      <th>96</th>\n",
       "      <td>98</td>\n",
       "      <td>0.999999</td>\n",
       "    </tr>\n",
       "    <tr>\n",
       "      <th>97</th>\n",
       "      <td>99</td>\n",
       "      <td>1.000000</td>\n",
       "    </tr>\n",
       "    <tr>\n",
       "      <th>98</th>\n",
       "      <td>100</td>\n",
       "      <td>1.000000</td>\n",
       "    </tr>\n",
       "  </tbody>\n",
       "</table>\n",
       "<p>99 rows × 2 columns</p>\n",
       "</div>"
      ],
      "text/plain": [
       "    group_size  probability_same_birthday\n",
       "0            2                   0.002740\n",
       "1            3                   0.008204\n",
       "2            4                   0.016356\n",
       "3            5                   0.027136\n",
       "4            6                   0.040462\n",
       "..         ...                        ...\n",
       "94          96                   0.999999\n",
       "95          97                   0.999999\n",
       "96          98                   0.999999\n",
       "97          99                   1.000000\n",
       "98         100                   1.000000\n",
       "\n",
       "[99 rows x 2 columns]"
      ]
     },
     "execution_count": 39,
     "metadata": {},
     "output_type": "execute_result"
    }
   ],
   "source": [
    "# create our X: list for number of people in a group\n",
    "group_size = [x for x in range(2, 101)]\n",
    "\n",
    "# create our Y: probabilities for a shared birthday within \n",
    "# the members of group of size X\n",
    "same_birthday_probas = [proba_same_birthday(x) for x in group_size]\n",
    "\n",
    "# define a dictionary with our data\n",
    "birthday_proba_dict = {\n",
    "    \"group_size\" : group_size,\n",
    "    \"probability_same_birthday\" : same_birthday_probas\n",
    "}\n",
    "\n",
    "# convert the dictionary to a dataframe\n",
    "birthday_proba_df = pd.DataFrame(birthday_proba_dict)\n",
    "\n",
    "\n",
    "birthday_proba_df"
   ]
  },
  {
   "cell_type": "code",
   "execution_count": 41,
   "metadata": {},
   "outputs": [
    {
     "data": {
      "image/png": "[encoded data removed]",
      "text/plain": [
       "<Figure size 1152x576 with 1 Axes>"
      ]
     },
     "metadata": {},
     "output_type": "display_data"
    }
   ],
   "source": [
    "plt.figure(figsize = (16, 8))\n",
    "\n",
    "# scatterplot of group size and corresponding probability any 2 people in the group share a birthday\n",
    "plt.scatter(data = birthday_proba_df, x = \"group_size\", y = \"probability_same_birthday\", color = \"b\")\n",
    "\n",
    "# add lines/text to highlight point where probability is approx. .5 (x = 23, y = .507)\n",
    "plt.axhline(y = .5, \n",
    "            xmax = .24, \n",
    "            color = \"k\",\n",
    "            linestyle = \"--\")\n",
    "plt.axvline(x = 23, \n",
    "            ymax = .5, \n",
    "            color = \"k\",\n",
    "            linestyle = \"--\")\n",
    "plt.text(x = 23.5, \n",
    "         y = .48, \n",
    "         s = \"P(23) = .507\", \n",
    "         fontsize = 12)\n",
    "\n",
    "# add lines/text to highlight point where probability is approx. 1 (x = 61, y = .995)\n",
    "plt.axhline(y = .995, \n",
    "            xmax = .59, \n",
    "            color = \"k\",\n",
    "            linestyle = \"--\")\n",
    "plt.axvline(x = 61, \n",
    "            ymax = .94, \n",
    "            color = \"k\",\n",
    "            linestyle = \"--\")\n",
    "plt.text(x = 61.5, \n",
    "         y = .955, \n",
    "         s = \"P(61) = .995\", \n",
    "         fontsize = 12)\n",
    "\n",
    "# title and labels\n",
    "plt.suptitle(\"Probability that Two People Share a Birthday\", fontsize = 20)\n",
    "plt.title(\"in a group of size X\", fontsize = 16)\n",
    "plt.xlabel(\"Number of People in the Group (x)\", fontsize = 16)\n",
    "plt.ylabel(\"Probability (P(x))\", fontsize = 16);"
   ]
  }
 ],
 "metadata": {
  "kernelspec": {
   "display_name": "Python 3",
   "language": "python",
   "name": "python3"
  },
  "language_info": {
   "codemirror_mode": {
    "name": "ipython",
    "version": 3
   },
   "file_extension": ".py",
   "mimetype": "text/x-python",
   "name": "python",
   "nbconvert_exporter": "python",
   "pygments_lexer": "ipython3",
   "version": "3.7.6"
  }
 },
 "nbformat": 4,
 "nbformat_minor": 4
}
